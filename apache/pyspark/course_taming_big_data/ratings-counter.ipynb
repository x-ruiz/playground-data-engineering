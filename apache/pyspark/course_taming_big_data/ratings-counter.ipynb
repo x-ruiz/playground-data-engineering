{
 "cells": [
  {
   "cell_type": "code",
   "execution_count": 7,
   "id": "ecba953a",
   "metadata": {},
   "outputs": [],
   "source": [
    "from pyspark.sql import SparkSession\n",
    "import collections\n"
   ]
  },
  {
   "cell_type": "code",
   "execution_count": null,
   "id": "7442fab1",
   "metadata": {},
   "outputs": [
    {
     "name": "stdout",
     "output_type": "stream",
     "text": [
      "<class 'collections.defaultdict'>\n",
      "1 6110\n",
      "2 11370\n",
      "3 27145\n",
      "4 34174\n",
      "5 21201\n"
     ]
    }
   ],
   "source": [
    "# Create a SparkSession\n",
    "# The `appName` and `master` are specified here\n",
    "spark = SparkSession.builder.appName(\"RatingsHistogram\").master(\"local[*]\").getOrCreate()\n",
    "\n",
    "# The SparkContext is now available through the SparkSession\n",
    "sc = spark.sparkContext \n",
    "\n",
    "lines = sc.textFile(\"ml-100k/u.data\")\n",
    "ratings = lines.map(lambda x: x.split()[2]) # load every line as x and split based on white space and select 2nd index - returns a new RDD\n",
    "result = ratings.countByValue() # returns count of each unique value (action) - returns a dict\n",
    "print(type(result))\n",
    "\n",
    "sortedResults = collections.OrderedDict(sorted(result.items()))\n",
    "for key, value in sortedResults.items():\n",
    "    print(\"%s %i\" % (key, value))\n",
    "\n",
    "spark.stop()"
   ]
  },
  {
   "cell_type": "code",
   "execution_count": null,
   "id": "67853074",
   "metadata": {},
   "outputs": [],
   "source": []
  }
 ],
 "metadata": {
  "kernelspec": {
   "display_name": ".venv",
   "language": "python",
   "name": "python3"
  },
  "language_info": {
   "codemirror_mode": {
    "name": "ipython",
    "version": 3
   },
   "file_extension": ".py",
   "mimetype": "text/x-python",
   "name": "python",
   "nbconvert_exporter": "python",
   "pygments_lexer": "ipython3",
   "version": "3.12.9"
  }
 },
 "nbformat": 4,
 "nbformat_minor": 5
}
